{
 "cells": [
  {
   "cell_type": "code",
   "execution_count": null,
   "metadata": {},
   "outputs": [],
   "source": [
    "import datetime\n",
    "import time\n",
    "\n",
    "start_date = \"8/27/18\"\n",
    "start = datetime.datetime.strptime(start_date, \"%m/%d/%y\")\n",
    "\n",
    "current = start\n",
    "\n",
    "for d in range(45):\n",
    "    print(\"### \" + time.strftime(\"%A, %B %e\", current.timetuple()))\n",
    "    if (current.weekday() is 4):\n",
    "        current = current + datetime.timedelta(days=3)\n",
    "    else:\n",
    "        current = current + datetime.timedelta(days=2)"
   ]
  }
 ],
 "metadata": {
  "kernelspec": {
   "display_name": "Python 3",
   "language": "python",
   "name": "python3"
  },
  "language_info": {
   "codemirror_mode": {
    "name": "ipython",
    "version": 3
   },
   "file_extension": ".py",
   "mimetype": "text/x-python",
   "name": "python",
   "nbconvert_exporter": "python",
   "pygments_lexer": "ipython3",
   "version": "3.6.5"
  }
 },
 "nbformat": 4,
 "nbformat_minor": 2
}
